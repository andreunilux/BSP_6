{
  "nbformat": 4,
  "nbformat_minor": 0,
  "metadata": {
    "colab": {
      "provenance": [],
      "authorship_tag": "ABX9TyM+kNBi49ssVz4coIK0syph",
      "include_colab_link": true
    },
    "kernelspec": {
      "name": "python3",
      "display_name": "Python 3"
    },
    "language_info": {
      "name": "python"
    }
  },
  "cells": [
    {
      "cell_type": "markdown",
      "metadata": {
        "id": "view-in-github",
        "colab_type": "text"
      },
      "source": [
        "<a href=\"https://colab.research.google.com/github/andreunilux/BSP_6/blob/main/Pre_Process_Dataset.ipynb\" target=\"_parent\"><img src=\"https://colab.research.google.com/assets/colab-badge.svg\" alt=\"Open In Colab\"/></a>"
      ]
    },
    {
      "cell_type": "code",
      "execution_count": null,
      "metadata": {
        "colab": {
          "base_uri": "https://localhost:8080/"
        },
        "id": "h0ELaZVWYMXj",
        "outputId": "9b3c0037-56e5-4ca4-d317-fe17fb3af651"
      },
      "outputs": [
        {
          "output_type": "stream",
          "name": "stdout",
          "text": [
            "Drive already mounted at /content/drive; to attempt to forcibly remount, call drive.mount(\"/content/drive\", force_remount=True).\n"
          ]
        }
      ],
      "source": [
        "# Pandas Dataframe Library\n",
        "import json\n",
        "import pandas as pd\n",
        "import os\n",
        "from IPython.display import display\n",
        "import numpy as np \n",
        "from google.colab import drive\n",
        "\n",
        "\n",
        "# Graphs and Charts\n",
        "import matplotlib.pyplot as plt \n",
        "import matplotlib.patches as mpatches\n",
        "from wordcloud import WordCloud, STOPWORDS, ImageColorGenerator\n",
        "import seaborn as sns\n",
        "\n",
        "# Mount Google Drive\n",
        "drive.mount('/content/drive')\n"
      ]
    },
    {
      "cell_type": "code",
      "source": [
        "gold='/content/drive/MyDrive/BSP6/init_dataset_gold'  #intial gold dataset \n",
        "silver='/content/drive/MyDrive/BSP6/init_dataset_silver' #intial silver dataset\n",
        "gold_silver='/content/drive/MyDrive/BSP6/init_dataset_gold_silver' #gold and silver merged for train and val | gold for test\n",
        "gold_silver_train_gold_val='/content/drive/MyDrive/BSP6/init_dataset_gold_silver_train_gold_val' #gold and silver merged for train |  gold for val and test\n",
        "gold_pre_processed = '/content/drive/MyDrive/BSP6/init_dataset_gold_preprocessed' # gold dataset without links\n",
        "\n",
        "os.chdir(gold) \n",
        "dirs = os.listdir(gold)\n",
        "for file in dirs:\n",
        "   print(file)\n",
        "\n",
        "train_data = pd.read_json('train.json', lines=True)\n",
        "val_data = pd.read_json('val.json', lines=True)\n",
        "test_data = pd.read_json('test.json', lines=True)"
      ],
      "metadata": {
        "colab": {
          "base_uri": "https://localhost:8080/"
        },
        "id": "HhA90HUgYSEx",
        "outputId": "c6618eaa-5f09-44f2-ff10-44394e0cfe93"
      },
      "execution_count": null,
      "outputs": [
        {
          "output_type": "stream",
          "name": "stdout",
          "text": [
            "test.json\n",
            "train.json\n",
            "val.json\n",
            "Report\n",
            "results\n"
          ]
        }
      ]
    },
    {
      "cell_type": "code",
      "source": [
        "def remove_url(df):\n",
        "  df['context'] = df['context'].replace(to_replace=r\"http\\S+|www\\S+|https\\S+\",value='',regex=True)\n",
        "  df['target'] = df['target'].replace(to_replace=r\"http\\S+|www\\S+|https\\S+\",value='',regex=True)\n",
        "  return df\n",
        "\n",
        "train_data=remove_url(train_data)\n",
        "val_data=remove_url(val_data)\n",
        "test_data=remove_url(test_data)"
      ],
      "metadata": {
        "id": "XSQaVtjVYRNy"
      },
      "execution_count": null,
      "outputs": []
    },
    {
      "cell_type": "code",
      "source": [
        "train_data.to_json(r'/content/drive/MyDrive/BSP6/init_dataset_gold_preprocessed/train.json', orient='records', lines=True)\n",
        "val_data.to_json(r'/content/drive/MyDrive/BSP6/init_dataset_gold_preprocessed/val.json', orient='records', lines=True)\n",
        "test_data.to_json(r'/content/drive/MyDrive/BSP6/init_dataset_gold_preprocessed/test.json', orient='records', lines=True)\n"
      ],
      "metadata": {
        "id": "hewKX5poamLy"
      },
      "execution_count": null,
      "outputs": []
    }
  ]
}